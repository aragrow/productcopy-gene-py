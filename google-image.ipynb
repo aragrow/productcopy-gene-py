{
 "cells": [
  {
   "cell_type": "code",
   "execution_count": 5,
   "id": "fff5ffe4-b1f7-4db1-93f3-08b3737f8997",
   "metadata": {},
   "outputs": [
    {
     "name": "stdout",
     "output_type": "stream",
     "text": [
      "Requirement already satisfied: google-api-python-client in ./gemini_env/lib/python3.12/site-packages (2.154.0)\n",
      "Requirement already satisfied: google-auth in ./gemini_env/lib/python3.12/site-packages (2.36.0)\n",
      "Requirement already satisfied: google-auth-httplib2 in ./gemini_env/lib/python3.12/site-packages (0.2.0)\n",
      "Requirement already satisfied: httplib2<1.dev0,>=0.19.0 in ./gemini_env/lib/python3.12/site-packages (from google-api-python-client) (0.22.0)\n",
      "Requirement already satisfied: google-api-core!=2.0.*,!=2.1.*,!=2.2.*,!=2.3.0,<3.0.0.dev0,>=1.31.5 in ./gemini_env/lib/python3.12/site-packages (from google-api-python-client) (2.23.0)\n",
      "Requirement already satisfied: uritemplate<5,>=3.0.1 in ./gemini_env/lib/python3.12/site-packages (from google-api-python-client) (4.1.1)\n",
      "Requirement already satisfied: cachetools<6.0,>=2.0.0 in ./gemini_env/lib/python3.12/site-packages (from google-auth) (5.5.0)\n",
      "Requirement already satisfied: pyasn1-modules>=0.2.1 in ./gemini_env/lib/python3.12/site-packages (from google-auth) (0.4.1)\n",
      "Requirement already satisfied: rsa<5,>=3.1.4 in ./gemini_env/lib/python3.12/site-packages (from google-auth) (4.9)\n",
      "Requirement already satisfied: googleapis-common-protos<2.0.dev0,>=1.56.2 in ./gemini_env/lib/python3.12/site-packages (from google-api-core!=2.0.*,!=2.1.*,!=2.2.*,!=2.3.0,<3.0.0.dev0,>=1.31.5->google-api-python-client) (1.66.0)\n",
      "Requirement already satisfied: protobuf!=3.20.0,!=3.20.1,!=4.21.0,!=4.21.1,!=4.21.2,!=4.21.3,!=4.21.4,!=4.21.5,<6.0.0.dev0,>=3.19.5 in ./gemini_env/lib/python3.12/site-packages (from google-api-core!=2.0.*,!=2.1.*,!=2.2.*,!=2.3.0,<3.0.0.dev0,>=1.31.5->google-api-python-client) (5.29.1)\n",
      "Requirement already satisfied: proto-plus<2.0.0dev,>=1.22.3 in ./gemini_env/lib/python3.12/site-packages (from google-api-core!=2.0.*,!=2.1.*,!=2.2.*,!=2.3.0,<3.0.0.dev0,>=1.31.5->google-api-python-client) (1.25.0)\n",
      "Requirement already satisfied: requests<3.0.0.dev0,>=2.18.0 in ./gemini_env/lib/python3.12/site-packages (from google-api-core!=2.0.*,!=2.1.*,!=2.2.*,!=2.3.0,<3.0.0.dev0,>=1.31.5->google-api-python-client) (2.32.3)\n",
      "Requirement already satisfied: pyparsing!=3.0.0,!=3.0.1,!=3.0.2,!=3.0.3,<4,>=2.4.2 in ./gemini_env/lib/python3.12/site-packages (from httplib2<1.dev0,>=0.19.0->google-api-python-client) (3.2.0)\n",
      "Requirement already satisfied: pyasn1<0.7.0,>=0.4.6 in ./gemini_env/lib/python3.12/site-packages (from pyasn1-modules>=0.2.1->google-auth) (0.6.1)\n",
      "Requirement already satisfied: charset-normalizer<4,>=2 in ./gemini_env/lib/python3.12/site-packages (from requests<3.0.0.dev0,>=2.18.0->google-api-core!=2.0.*,!=2.1.*,!=2.2.*,!=2.3.0,<3.0.0.dev0,>=1.31.5->google-api-python-client) (3.4.0)\n",
      "Requirement already satisfied: idna<4,>=2.5 in ./gemini_env/lib/python3.12/site-packages (from requests<3.0.0.dev0,>=2.18.0->google-api-core!=2.0.*,!=2.1.*,!=2.2.*,!=2.3.0,<3.0.0.dev0,>=1.31.5->google-api-python-client) (3.10)\n",
      "Requirement already satisfied: urllib3<3,>=1.21.1 in ./gemini_env/lib/python3.12/site-packages (from requests<3.0.0.dev0,>=2.18.0->google-api-core!=2.0.*,!=2.1.*,!=2.2.*,!=2.3.0,<3.0.0.dev0,>=1.31.5->google-api-python-client) (2.2.3)\n",
      "Requirement already satisfied: certifi>=2017.4.17 in ./gemini_env/lib/python3.12/site-packages (from requests<3.0.0.dev0,>=2.18.0->google-api-core!=2.0.*,!=2.1.*,!=2.2.*,!=2.3.0,<3.0.0.dev0,>=1.31.5->google-api-python-client) (2024.8.30)\n"
     ]
    }
   ],
   "source": [
    "!pip install google-api-python-client google-auth google-auth-httplib2"
   ]
  },
  {
   "cell_type": "code",
   "execution_count": 15,
   "id": "d6ca0a1c-954a-410b-b9c6-47544780d6b3",
   "metadata": {},
   "outputs": [
    {
     "name": "stdout",
     "output_type": "stream",
     "text": [
      "Current Working Directory: /Users/david/Documents/python/virtual/product_describer\n",
      "Files in 'downloaded' directory: ['IMG_0253.JPG']\n",
      "An error occurred: <HttpError 403 when requesting https://vision.googleapis.com/v1/images:annotate?alt=json returned \"This API method requires billing to be enabled. Please enable billing on project #457521891066 by visiting https://console.developers.google.com/billing/enable?project=457521891066 then retry. If you enabled billing for this project recently, wait a few minutes for the action to propagate to our systems and retry.\". Details: \"[{'@type': 'type.googleapis.com/google.rpc.ErrorInfo', 'reason': 'BILLING_DISABLED', 'domain': 'googleapis.com', 'metadata': {'containerInfo': '457521891066', 'service': 'vision.googleapis.com', 'consumer': 'projects/457521891066'}}, {'@type': 'type.googleapis.com/google.rpc.LocalizedMessage', 'locale': 'en-US', 'message': 'This API method requires billing to be enabled. Please enable billing on project #457521891066 by visiting https://console.developers.google.com/billing/enable?project=457521891066 then retry. If you enabled billing for this project recently, wait a few minutes for the action to propagate to our systems and retry.'}, {'@type': 'type.googleapis.com/google.rpc.Help', 'links': [{'description': 'Google developers console billing', 'url': 'https://console.developers.google.com/billing/enable?project=457521891066'}]}]\">\n"
     ]
    }
   ],
   "source": [
    "from google.oauth2 import service_account\n",
    "from googleapiclient.discovery import build\n",
    "from googleapiclient.errors import HttpError\n",
    "import base64\n",
    "import os\n",
    "\n",
    "try:\n",
    "    \n",
    "    print(\"Current Working Directory:\", os.getcwd())\n",
    "    print(\"Files in 'downloaded' directory:\", os.listdir('./downloaded'))\n",
    "    \n",
    "    # Path to your service account key JSON file\n",
    "    SERVICE_ACCOUNT_FILE = '../../gemini_service_account.json'\n",
    "    \n",
    "    # Authenticate with the service account\n",
    "    credentials = service_account.Credentials.from_service_account_file(\n",
    "        SERVICE_ACCOUNT_FILE\n",
    "    )\n",
    "    \n",
    "    # Initialize the Vision API client\n",
    "    vision_service = build('vision', 'v1', credentials=credentials)\n",
    "    \n",
    "    # Path to the image file to analyze\n",
    "    IMAGE_FILE = './downloaded/IMG_0253.JPG'\n",
    "    if not os.path.exists(IMAGE_FILE):\n",
    "        raise FileNotFoundError(f\"File not found: {IMAGE_FILE}\")\n",
    "        \n",
    "    # Encode the image to base64\n",
    "    with open(IMAGE_FILE, 'rb') as image_file:\n",
    "        encoded_image = base64.b64encode(image_file.read()).decode('utf-8')\n",
    "    \n",
    "    # Prepare the request\n",
    "    request_body = {\n",
    "        'requests': [\n",
    "            {\n",
    "                'image': {'content': encoded_image},\n",
    "                'features': [{'type': 'LABEL_DETECTION', 'maxResults': 10},\n",
    "                             {'type': 'WEB_DETECTION', 'maxResults': 10}]\n",
    "            }\n",
    "        ]\n",
    "    }\n",
    "    \n",
    "    # Send the request to the Vision API\n",
    "    response = vision_service.images().annotate(body=request_body).execute()\n",
    "    \n",
    "    # Parse and display the response\n",
    "    if 'responses' in response:\n",
    "        for resp in response['responses']:\n",
    "            print(\"Labels Detected:\")\n",
    "            for label in resp.get('labelAnnotations', []):\n",
    "                print(f\"  - {label['description']} (Score: {label['score']})\")\n",
    "            \n",
    "            print(\"\\nWeb Entities:\")\n",
    "            for web_entity in resp.get('webDetection', {}).get('webEntities', []):\n",
    "                print(f\"  - {web_entity['description']} (Score: {web_entity['score']})\")\n",
    "    else:\n",
    "        print(\"No response received.\")\n",
    "\n",
    "    pass\n",
    "except HttpError as error:\n",
    "    print(f\"An error occurred: {error}\")\n"
   ]
  },
  {
   "cell_type": "code",
   "execution_count": null,
   "id": "a7b29674-d656-4b41-a99e-4b843548af6e",
   "metadata": {},
   "outputs": [],
   "source": []
  }
 ],
 "metadata": {
  "kernelspec": {
   "display_name": "Python 3 (ipykernel)",
   "language": "python",
   "name": "python3"
  },
  "language_info": {
   "codemirror_mode": {
    "name": "ipython",
    "version": 3
   },
   "file_extension": ".py",
   "mimetype": "text/x-python",
   "name": "python",
   "nbconvert_exporter": "python",
   "pygments_lexer": "ipython3",
   "version": "3.12.8"
  }
 },
 "nbformat": 4,
 "nbformat_minor": 5
}
